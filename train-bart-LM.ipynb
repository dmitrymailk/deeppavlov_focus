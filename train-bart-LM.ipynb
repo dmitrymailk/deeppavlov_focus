{
 "cells": [
  {
   "cell_type": "code",
   "execution_count": 1,
   "metadata": {},
   "outputs": [
    {
     "name": "stderr",
     "output_type": "stream",
     "text": [
      "/home/dimweb/Desktop/deeppavlov/d_env/lib/python3.10/site-packages/tqdm/auto.py:22: TqdmWarning: IProgress not found. Please update jupyter and ipywidgets. See https://ipywidgets.readthedocs.io/en/stable/user_install.html\n",
      "  from .autonotebook import tqdm as notebook_tqdm\n"
     ]
    }
   ],
   "source": [
    "from core.dataloaders.focus_dataloader import PytorchFoCusDatasetV2, FoCusDatasetV1\n",
    "from core.tokenizers.bart_tokenizers import BartFoCusTokenizerV1\n",
    "from core.hyperparameters.bart_hyperparameters import BartHyperparametersV1\n",
    "\n",
    "hyper = BartHyperparametersV1()\n",
    "focus_dataset = FoCusDatasetV1(\n",
    "    input_dataset_path=\"./datasets/FoCus/valid_focus.json\"\n",
    ")\n",
    "\n",
    "tokenizer = BartFoCusTokenizerV1.from_pretrained(\n",
    "    \"facebook/bart-base\",\n",
    "    hyperparameters=hyper,\n",
    ")\n",
    "\n",
    "pytorch_foc = PytorchFoCusDatasetV2(\n",
    "    dataset=focus_dataset,\n",
    "    tokenizer=tokenizer,\n",
    "    hyperparameters=hyper,\n",
    ")"
   ]
  },
  {
   "cell_type": "code",
   "execution_count": 1,
   "metadata": {},
   "outputs": [
    {
     "name": "stderr",
     "output_type": "stream",
     "text": [
      "/home/dimweb/Desktop/deeppavlov/d_env/lib/python3.10/site-packages/tqdm/auto.py:22: TqdmWarning: IProgress not found. Please update jupyter and ipywidgets. See https://ipywidgets.readthedocs.io/en/stable/user_install.html\n",
      "  from .autonotebook import tqdm as notebook_tqdm\n"
     ]
    },
    {
     "name": "stdout",
     "output_type": "stream",
     "text": [
      "Done\n"
     ]
    }
   ],
   "source": [
    "from core.dataloaders.focus_dataloader import FoCusLightningDataModuleV2\n",
    "from core.tokenizers.bart_tokenizers import BartFoCusTokenizerV1\n",
    "from core.hyperparameters.bart_hyperparameters import BartHyperparametersV2\n",
    "from core.base_models.bart_models import BartLMV2\n",
    "from transformers import BartConfig\n",
    "\n",
    "hyper = BartHyperparametersV2()\n",
    "\n",
    "tokenizer = BartFoCusTokenizerV1.from_pretrained(\n",
    "    hyper.model_name,\n",
    "    hyperparameters=hyper,\n",
    ")\n",
    "\n",
    "data_module = FoCusLightningDataModuleV2(\n",
    "    train_path_dataset=\"./datasets/FoCus/train_focus.json\",\n",
    "    valid_path_dataset=\"./datasets/FoCus/valid_focus.json\",\n",
    "    hyperparameters=hyper,\n",
    "    tokenizer=tokenizer,  \n",
    "    is_debug=True,\n",
    ")\n",
    "data_module.setup()\n",
    "input_item = next(iter(data_module.train_dataloader()))\n",
    "\n",
    "model = BartLMV2(\n",
    "    config=BartConfig.from_pretrained(hyper.model_name),\n",
    "    hyperparameters=hyper,\n",
    "    tokenizer=tokenizer,\n",
    ")\n",
    "\n",
    "model.resize_token_embeddings(len(tokenizer))\n",
    "model.forward(\n",
    "    **input_item,\n",
    ")\n",
    "print(\"Done\")"
   ]
  },
  {
   "cell_type": "code",
   "execution_count": null,
   "metadata": {},
   "outputs": [],
   "source": []
  },
  {
   "cell_type": "code",
   "execution_count": 4,
   "metadata": {},
   "outputs": [
    {
     "data": {
      "text/plain": [
       "(tensor([[-0.3922,  1.7638,  0.5222,  0.3016, -0.2778],\n",
       "         [ 1.3271, -1.2603, -0.0327, -0.4648, -1.5070],\n",
       "         [-1.0322,  0.2424, -1.2268,  1.4694, -1.6350]], requires_grad=True),\n",
       " tensor([3, 1, 1]))"
      ]
     },
     "execution_count": 4,
     "metadata": {},
     "output_type": "execute_result"
    }
   ],
   "source": [
    "import torch\n",
    "from torch import nn\n",
    "\n",
    "# head = nn.Linear(3, 4, bias=False)\n",
    "# input = torch.tensor([[1, 2, 3], [4, 5, 6]], dtype=torch.float32)\n",
    "# logits = head(input)\n",
    "# targets = torch.tensor([1, 2], dtype=torch.long)\n",
    "# loss = nn.BCELoss()(logits, targets)\n",
    "\n",
    "input = torch.randn(3, 5, requires_grad=True)\n",
    "target = torch.empty(3, dtype=torch.long).random_(5)\n",
    "input, target\n"
   ]
  },
  {
   "cell_type": "code",
   "execution_count": 7,
   "metadata": {},
   "outputs": [
    {
     "data": {
      "text/plain": [
       "tensor([0, 1, 1, 1, 0, 1, 1, 1, 0, 0, 0, 1, 1, 0, 0, 0, 0, 1, 0, 1],\n",
       "       dtype=torch.int32)"
      ]
     },
     "execution_count": 7,
     "metadata": {},
     "output_type": "execute_result"
    }
   ],
   "source": [
    "from torch.nn import Sigmoid\n",
    "import torch\n",
    "(Sigmoid()(torch.randn([2, 10])) > 0.5).int().view(-1)"
   ]
  },
  {
   "cell_type": "code",
   "execution_count": 29,
   "metadata": {},
   "outputs": [
    {
     "name": "stdout",
     "output_type": "stream",
     "text": [
      "tensor([1, 3])\n",
      "tensor([0, 4])\n"
     ]
    },
    {
     "data": {
      "text/plain": [
       "0.0"
      ]
     },
     "execution_count": 29,
     "metadata": {},
     "output_type": "execute_result"
    }
   ],
   "source": [
    "import torch\n",
    "target = torch.randint(0, 5, (2, 1)).view(-1)\n",
    "logits = torch.randn(2, 5)\n",
    "preds = torch.argmax(logits, dim=1)\n",
    "print(preds)\n",
    "print(target)\n",
    "(preds == target).float().mean().cpu().item()"
   ]
  },
  {
   "cell_type": "code",
   "execution_count": 6,
   "metadata": {},
   "outputs": [
    {
     "data": {
      "text/plain": [
       "tensor([[9],\n",
       "        [8]])"
      ]
     },
     "execution_count": 6,
     "metadata": {},
     "output_type": "execute_result"
    }
   ],
   "source": [
    "torch.randint(0, 10, [2, 1])"
   ]
  },
  {
   "cell_type": "code",
   "execution_count": 13,
   "metadata": {},
   "outputs": [
    {
     "name": "stdout",
     "output_type": "stream",
     "text": [
      "tensor(1.1145) tensor(1.1145)\n"
     ]
    }
   ],
   "source": [
    "import torch\n",
    "\n",
    "batch_size = 2\n",
    "num_classes = 11\n",
    "\n",
    "loss_fn = torch.nn.BCELoss()\n",
    "\n",
    "outputs_before_sigmoid = torch.randn(batch_size, num_classes, dtype=torch.float32)\n",
    "sigmoid_outputs = torch.sigmoid(outputs_before_sigmoid)\n",
    "target_classes = torch.randn((batch_size, num_classes))  # randints in [0, 2).\n",
    "\n",
    "loss = loss_fn(sigmoid_outputs, target_classes)\n",
    "\n",
    "# alternatively, use BCE with logits, on outputs before sigmoid.\n",
    "loss_fn_2 = torch.nn.BCEWithLogitsLoss()\n",
    "loss2 = loss_fn_2(outputs_before_sigmoid, target_classes)\n",
    "print(loss, loss2)"
   ]
  },
  {
   "cell_type": "code",
   "execution_count": 7,
   "metadata": {},
   "outputs": [
    {
     "data": {
      "text/plain": [
       "tensor([[ 0.5799,  0.4033,  0.1488, -1.3507,  1.3772],\n",
       "        [ 0.2756,  0.4271,  0.2537,  0.6392, -1.0257]])"
      ]
     },
     "execution_count": 7,
     "metadata": {},
     "output_type": "execute_result"
    }
   ],
   "source": [
    "torch.randn([2, 5])"
   ]
  },
  {
   "cell_type": "code",
   "execution_count": 5,
   "metadata": {},
   "outputs": [
    {
     "data": {
      "text/plain": [
       "(tensor([[1.5000, 1.5000, 1.5000, 1.5000, 1.5000],\n",
       "         [1.5000, 1.5000, 1.5000, 1.5000, 1.5000]]),\n",
       " tensor([[1., 1., 1., 1., 1.],\n",
       "         [1., 1., 1., 1., 1.]]))"
      ]
     },
     "execution_count": 5,
     "metadata": {},
     "output_type": "execute_result"
    }
   ],
   "source": [
    "target = torch.ones([2, 5], dtype=torch.float32)  # 64 classes, batch size = 10\n",
    "output = torch.full([2, 5], 1.5)  # A prediction (logit)\n",
    "pos_weight = torch.ones([5])  # All weights are equal to 1\n",
    "criterion = torch.nn.BCEWithLogitsLoss(pos_weight=pos_weight)\n",
    "criterion(output, target)  # -log(sigmoid(1.5))\n",
    "output, target"
   ]
  },
  {
   "cell_type": "code",
   "execution_count": 4,
   "metadata": {},
   "outputs": [
    {
     "name": "stdout",
     "output_type": "stream",
     "text": [
      "249\n",
      "272\n"
     ]
    }
   ],
   "source": [
    "sample = pytorch_foc[11]\n",
    "input_ids = sample[\"input_ids\"]\n",
    "print(sample[\"dialog_bos_index\"])\n",
    "dialog_bos = tokenizer.get_vocab().get(hyper.dialog_bos_token)\n",
    "\n",
    "assert sample[\"dialog_bos_index\"] == input_ids.index(dialog_bos), f\"dialog_bos_index {sample['dialog_bos_index']} {input_ids.index(dialog_bos)}\" \n",
    "\n",
    "print(sample[\"dialog_eos_index\"])\n",
    "dialog_eos = tokenizer.get_vocab().get(hyper.dialog_eos_token)\n",
    "input_ids.index(dialog_eos)\n",
    "assert sample[\"dialog_eos_index\"] == input_ids.index(dialog_eos), f\"dialog_eos_index {sample['dialog_eos_index']} {input_ids.index(dialog_eos)}\""
   ]
  }
 ],
 "metadata": {
  "kernelspec": {
   "display_name": "Python 3.10.4 ('d_env')",
   "language": "python",
   "name": "python3"
  },
  "language_info": {
   "codemirror_mode": {
    "name": "ipython",
    "version": 3
   },
   "file_extension": ".py",
   "mimetype": "text/x-python",
   "name": "python",
   "nbconvert_exporter": "python",
   "pygments_lexer": "ipython3",
   "version": "3.10.4"
  },
  "orig_nbformat": 4,
  "vscode": {
   "interpreter": {
    "hash": "c47eeeae5f0593d6ff7164e36f6d45daaa118b41372aa3e9757d1f066e1c76d7"
   }
  }
 },
 "nbformat": 4,
 "nbformat_minor": 2
}
