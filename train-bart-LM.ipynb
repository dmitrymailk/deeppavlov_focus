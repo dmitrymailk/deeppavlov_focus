{
 "cells": [
  {
   "cell_type": "code",
   "execution_count": 1,
   "metadata": {},
   "outputs": [
    {
     "name": "stderr",
     "output_type": "stream",
     "text": [
      "/home/dimweb/Desktop/deeppavlov/d_env/lib/python3.10/site-packages/tqdm/auto.py:22: TqdmWarning: IProgress not found. Please update jupyter and ipywidgets. See https://ipywidgets.readthedocs.io/en/stable/user_install.html\n",
      "  from .autonotebook import tqdm as notebook_tqdm\n"
     ]
    }
   ],
   "source": [
    "from train_bart_LM import (\n",
    "\tBartFoCusDatasetSampleHyperparametersV1,\n",
    "\tBartFoCusTokenizerV1,\n",
    "\tBARTLightningModelV1,\n",
    ")\n",
    "\n",
    "from transformers import BartConfig\n",
    "import torch\n",
    "\n",
    "hyperparameters = BartFoCusDatasetSampleHyperparametersV1()\n",
    "tokenizer = BartFoCusTokenizerV1.from_pretrained(\n",
    "\thyperparameters.bart_model_name, hyperparameters=hyperparameters\n",
    ")\n",
    "\n",
    "model = BARTLightningModelV1(\n",
    "\tconfig=BartConfig.from_pretrained(hyperparameters.bart_model_name),\n",
    "\thyperparameters=hyperparameters,\n",
    "\ttokenizer=tokenizer,\n",
    ")"
   ]
  },
  {
   "cell_type": "code",
   "execution_count": 23,
   "metadata": {},
   "outputs": [
    {
     "data": {
      "text/plain": [
       "(torch.Size([1, 1025]), torch.Size([1, 1025]))"
      ]
     },
     "execution_count": 23,
     "metadata": {},
     "output_type": "execute_result"
    }
   ],
   "source": [
    "indices = torch.tensor([[0] * 1025], dtype=torch.long)\n",
    "attention = torch.tensor([[1] * indices.shape[1]], dtype=torch.long)\n",
    "indices.shape, attention.shape"
   ]
  },
  {
   "cell_type": "code",
   "execution_count": 28,
   "metadata": {},
   "outputs": [
    {
     "data": {
      "text/plain": [
       "1024"
      ]
     },
     "execution_count": 28,
     "metadata": {},
     "output_type": "execute_result"
    }
   ],
   "source": [
    "tokenizer.model_max_length"
   ]
  },
  {
   "cell_type": "markdown",
   "metadata": {},
   "source": [
    "load from checkpoint"
   ]
  },
  {
   "cell_type": "code",
   "execution_count": 1,
   "metadata": {},
   "outputs": [
    {
     "name": "stderr",
     "output_type": "stream",
     "text": [
      "/home/dimweb/Desktop/deeppavlov/d_env/lib/python3.10/site-packages/tqdm/auto.py:22: TqdmWarning: IProgress not found. Please update jupyter and ipywidgets. See https://ipywidgets.readthedocs.io/en/stable/user_install.html\n",
      "  from .autonotebook import tqdm as notebook_tqdm\n"
     ]
    }
   ],
   "source": [
    "from train_bart_LM import (\n",
    "\tBartFoCusDatasetSampleHyperparametersV1,\n",
    "\tBartFoCusTokenizerV1,\n",
    "\tBARTLightningModelV1,\n",
    ")\n",
    "import torch\n",
    "\n",
    "# model = BARTLightningModelV1.load_from_checkpoint(\"./Test/2z0xqqyw/checkpoints/facebook/bart-base-epoch=00-val_loss=0.00.ckpt\")"
   ]
  },
  {
   "cell_type": "code",
   "execution_count": 2,
   "metadata": {},
   "outputs": [
    {
     "data": {
      "text/plain": [
       "{'dialog_history_length': 1,\n",
       " 'context_length': 1,\n",
       " 'knowledge_length': 1,\n",
       " 'max_persona_tokens': 200,\n",
       " 'max_dialog_history_tokens': 200,\n",
       " 'max_knowledge_tokens': 200,\n",
       " 'max_bot_response_tokens': 150,\n",
       " 'dialog_bos_token': '<dialog>',\n",
       " 'dialog_eos_token': '</dialog>',\n",
       " 'seed': 2022,\n",
       " 'train_batch_size': 4,\n",
       " 'valid_batch_size': 8,\n",
       " 'warmup_steps': 10,\n",
       " 'learning_rate': 6.25e-05,\n",
       " 'adam_epsilon': 1e-08,\n",
       " 'weight_decay': 0.01,\n",
       " 'gradient_accumulation_steps': 1,\n",
       " 'train_epochs': 1,\n",
       " 'bart_model_name': 'facebook/bart-base'}"
      ]
     },
     "execution_count": 2,
     "metadata": {},
     "output_type": "execute_result"
    }
   ],
   "source": [
    "BartFoCusDatasetSampleHyperparametersV1().__dict__"
   ]
  },
  {
   "cell_type": "code",
   "execution_count": 2,
   "metadata": {},
   "outputs": [
    {
     "data": {
      "text/plain": [
       "tensor([[[-0.7021, -0.1855, -0.6075,  ..., -0.5538, -1.3319, -0.3377],\n",
       "         [-0.1070, -0.4966, -0.8172,  ..., -0.5668, -0.6842, -0.0099],\n",
       "         [-0.2574, -0.6691, -1.0254,  ..., -0.3091, -0.7284, -0.0210],\n",
       "         ...,\n",
       "         [ 0.1288, -0.0963, -1.2309,  ..., -0.4731, -0.7443, -0.6315],\n",
       "         [-0.7778, -0.7373, -0.7877,  ..., -0.1787, -1.1695, -0.2357],\n",
       "         [-0.2252, -0.5599, -0.8132,  ..., -0.3554, -1.2446, -0.5505]]],\n",
       "       grad_fn=<UnsafeViewBackward0>)"
      ]
     },
     "execution_count": 2,
     "metadata": {},
     "output_type": "execute_result"
    }
   ],
   "source": [
    "indices = torch.tensor([[0] * 10], dtype=torch.long)\n",
    "attention = torch.tensor([[1] * indices.shape[1]], dtype=torch.long)\n",
    "\n",
    "model.eval()\n",
    "\n",
    "model.forward(\n",
    "    input_ids=indices,\n",
    "    attention_mask=attention,\n",
    ")[0]"
   ]
  },
  {
   "cell_type": "code",
   "execution_count": 2,
   "metadata": {},
   "outputs": [
    {
     "ename": "ImportError",
     "evalue": "attempted relative import with no known parent package",
     "output_type": "error",
     "traceback": [
      "\u001b[0;31m---------------------------------------------------------------------------\u001b[0m",
      "\u001b[0;31mImportError\u001b[0m                               Traceback (most recent call last)",
      "Cell \u001b[0;32mIn [2], line 1\u001b[0m\n\u001b[0;32m----> 1\u001b[0m \u001b[38;5;28;01mfrom\u001b[39;00m \u001b[38;5;21;01m.\u001b[39;00m \u001b[38;5;28;01mimport\u001b[39;00m core\n",
      "\u001b[0;31mImportError\u001b[0m: attempted relative import with no known parent package"
     ]
    }
   ],
   "source": [
    "from . import core"
   ]
  },
  {
   "cell_type": "code",
   "execution_count": 3,
   "metadata": {},
   "outputs": [],
   "source": [
    "from core.utils import TfIdf"
   ]
  },
  {
   "cell_type": "code",
   "execution_count": 22,
   "metadata": {},
   "outputs": [
    {
     "name": "stdout",
     "output_type": "stream",
     "text": [
      "[1, 2, 3]\n"
     ]
    }
   ],
   "source": [
    "import torch\n",
    "\n",
    "def a(test: list, test2: list):\n",
    "    print(test)\n",
    "    print(test2)\n",
    "\n",
    "a(\n",
    "    test=[1, 2, 3],\n",
    "    test2=[4, 5, 6],\n",
    ")"
   ]
  }
 ],
 "metadata": {
  "kernelspec": {
   "display_name": "Python 3.10.4 ('d_env')",
   "language": "python",
   "name": "python3"
  },
  "language_info": {
   "codemirror_mode": {
    "name": "ipython",
    "version": 3
   },
   "file_extension": ".py",
   "mimetype": "text/x-python",
   "name": "python",
   "nbconvert_exporter": "python",
   "pygments_lexer": "ipython3",
   "version": "3.10.4"
  },
  "orig_nbformat": 4,
  "vscode": {
   "interpreter": {
    "hash": "c47eeeae5f0593d6ff7164e36f6d45daaa118b41372aa3e9757d1f066e1c76d7"
   }
  }
 },
 "nbformat": 4,
 "nbformat_minor": 2
}
