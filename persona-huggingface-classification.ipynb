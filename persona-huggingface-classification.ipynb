{
 "cells": [
  {
   "cell_type": "code",
   "execution_count": 1,
   "metadata": {},
   "outputs": [
    {
     "name": "stderr",
     "output_type": "stream",
     "text": [
      "/home/dimweb/Desktop/deeppavlov/d_env/lib/python3.10/site-packages/tqdm/auto.py:22: TqdmWarning: IProgress not found. Please update jupyter and ipywidgets. See https://ipywidgets.readthedocs.io/en/stable/user_install.html\n",
      "  from .autonotebook import tqdm as notebook_tqdm\n",
      "Special tokens have been added in the vocabulary, make sure the associated word embeddings are fine-tuned or trained.\n",
      "/home/dimweb/Desktop/deeppavlov/d_env/lib/python3.10/site-packages/transformers/convert_slow_tokenizer.py:434: UserWarning: The sentencepiece tokenizer that you are converting to a fast tokenizer uses the byte fallback option which is not implemented in the fast tokenizers. In practice this means that the fast version of the tokenizer can produce unknown tokens whereas the sentencepiece version would have converted these unknown tokens into a sequence of byte tokens matching the original piece of text.\n",
      "  warnings.warn(\n",
      "Special tokens have been added in the vocabulary, make sure the associated word embeddings are fine-tuned or trained.\n",
      "Some weights of the model checkpoint at microsoft/deberta-v3-small were not used when initializing DebertaV2ForSequenceClassification: ['mask_predictions.LayerNorm.bias', 'mask_predictions.classifier.weight', 'lm_predictions.lm_head.bias', 'mask_predictions.dense.bias', 'lm_predictions.lm_head.dense.bias', 'mask_predictions.LayerNorm.weight', 'lm_predictions.lm_head.dense.weight', 'mask_predictions.dense.weight', 'lm_predictions.lm_head.LayerNorm.bias', 'lm_predictions.lm_head.LayerNorm.weight', 'mask_predictions.classifier.bias']\n",
      "- This IS expected if you are initializing DebertaV2ForSequenceClassification from the checkpoint of a model trained on another task or with another architecture (e.g. initializing a BertForSequenceClassification model from a BertForPreTraining model).\n",
      "- This IS NOT expected if you are initializing DebertaV2ForSequenceClassification from the checkpoint of a model that you expect to be exactly identical (initializing a BertForSequenceClassification model from a BertForSequenceClassification model).\n",
      "Some weights of DebertaV2ForSequenceClassification were not initialized from the model checkpoint at microsoft/deberta-v3-small and are newly initialized: ['pooler.dense.bias', 'pooler.dense.weight', 'classifier.weight', 'classifier.bias']\n",
      "You should probably TRAIN this model on a down-stream task to be able to use it for predictions and inference.\n"
     ]
    }
   ],
   "source": [
    "from transformers import AutoTokenizer\n",
    "from datasets import load_dataset\n",
    "from transformers import DataCollatorWithPadding\n",
    "from transformers import AutoModelForSequenceClassification, TrainingArguments, Trainer\n",
    "\n",
    "\n",
    "model_name = \"microsoft/deberta-v3-small\"\n",
    "\n",
    "tokenizer = AutoTokenizer.from_pretrained(model_name)\n",
    "\n",
    "data_collator = DataCollatorWithPadding(tokenizer=tokenizer)\n",
    "\n",
    "model = AutoModelForSequenceClassification.from_pretrained(model_name, num_labels=2)"
   ]
  },
  {
   "cell_type": "code",
   "execution_count": 2,
   "metadata": {},
   "outputs": [],
   "source": [
    "from core.dataloaders.focus.focus_dataloader import FoCusDatasetPersonaV2\n",
    "from core.utils import PytorchDatasetFactory\n",
    "from core.dataloaders.focus.models.debertav3_dataloaders import DebertaV3FoCusPersonaDatasetSampleV2\n",
    "from core.hyperparameters.debertav3_hyperparameters import DebertaV3HyperparametersV1\n",
    "\n",
    "hyperparameters = DebertaV3HyperparametersV1(\n",
    "    train_batch_size=16,\n",
    "    valid_batch_size=16,\n",
    "    max_dialog_history_tokens=70,\n",
    "    max_knowledge_candidates_tokens=220,\n",
    "    max_persona_tokens=20,\n",
    "    model_name=model_name,\n",
    "    project_name=\"focus_persona_classification\",\n",
    ")\n",
    "\n",
    "train_dataset = FoCusDatasetPersonaV2(\n",
    "    input_dataset_path=\"./datasets/FoCus/train_focus.json\",\n",
    "    is_train=True,\n",
    ")\n",
    "\n",
    "\n",
    "valid_dataset = FoCusDatasetPersonaV2(\n",
    "    input_dataset_path=\"./datasets/FoCus/valid_focus.json\",\n",
    "    is_train=False,\n",
    ")\n",
    "\n",
    "train_dataset = PytorchDatasetFactory(\n",
    "    dataset=train_dataset,\n",
    "    tokenizer=tokenizer,\n",
    "    hyperparameters=hyperparameters,\n",
    "    dataset_sample_class=DebertaV3FoCusPersonaDatasetSampleV2,\n",
    ")\n",
    "\n",
    "valid_dataset = PytorchDatasetFactory(\n",
    "    dataset=valid_dataset,\n",
    "    tokenizer=tokenizer,\n",
    "    hyperparameters=hyperparameters,\n",
    "    dataset_sample_class=DebertaV3FoCusPersonaDatasetSampleV2,\n",
    ")\n",
    "\n",
    "from datasets import load_metric\n",
    "import numpy as np\n",
    "\n",
    "accuracy_metric = load_metric(\"accuracy\")\n",
    "\n",
    "def compute_metrics(eval_pred):\n",
    "    predictions, labels = eval_pred\n",
    "    predictions = np.argmax(predictions, axis=-1)\n",
    "    return accuracy_metric.compute(predictions=predictions, references=labels)\n"
   ]
  },
  {
   "cell_type": "code",
   "execution_count": 3,
   "metadata": {},
   "outputs": [
    {
     "name": "stdout",
     "output_type": "stream",
     "text": [
      "env: WANDB_PROJECT=focus_persona_classification\n"
     ]
    },
    {
     "name": "stderr",
     "output_type": "stream",
     "text": [
      "Using cuda_amp half precision backend\n",
      "/home/dimweb/Desktop/deeppavlov/d_env/lib/python3.10/site-packages/transformers/optimization.py:306: FutureWarning: This implementation of AdamW is deprecated and will be removed in a future version. Use the PyTorch implementation torch.optim.AdamW instead, or set `no_deprecation_warning=True` to disable this warning\n",
      "  warnings.warn(\n",
      "***** Running training *****\n",
      "  Num examples = 114630\n",
      "  Num Epochs = 2\n",
      "  Instantaneous batch size per device = 16\n",
      "  Total train batch size (w. parallel, distributed & accumulation) = 16\n",
      "  Gradient Accumulation steps = 1\n",
      "  Total optimization steps = 14330\n",
      "Automatic Weights & Biases logging enabled, to disable set os.environ[\"WANDB_DISABLED\"] = \"true\"\n",
      "Failed to detect the name of this notebook, you can set it manually with the WANDB_NOTEBOOK_NAME environment variable to enable code saving.\n",
      "\u001b[34m\u001b[1mwandb\u001b[0m: Currently logged in as: \u001b[33mdimweb\u001b[0m. Use \u001b[1m`wandb login --relogin`\u001b[0m to force relogin\n"
     ]
    },
    {
     "data": {
      "text/html": [
       "wandb version 0.13.4 is available!  To upgrade, please run:\n",
       " $ pip install wandb --upgrade"
      ],
      "text/plain": [
       "<IPython.core.display.HTML object>"
      ]
     },
     "metadata": {},
     "output_type": "display_data"
    },
    {
     "data": {
      "text/html": [
       "Tracking run with wandb version 0.13.3"
      ],
      "text/plain": [
       "<IPython.core.display.HTML object>"
      ]
     },
     "metadata": {},
     "output_type": "display_data"
    },
    {
     "data": {
      "text/html": [
       "Run data is saved locally in <code>/home/dimweb/Desktop/deeppavlov/my_focus/wandb/run-20221010_033453-11w541o2</code>"
      ],
      "text/plain": [
       "<IPython.core.display.HTML object>"
      ]
     },
     "metadata": {},
     "output_type": "display_data"
    },
    {
     "data": {
      "text/html": [
       "Syncing run <strong><a href=\"https://wandb.ai/dimweb/focus_persona_classification/runs/11w541o2\" target=\"_blank\">huggingface_microsoft/deberta-v3-small</a></strong> to <a href=\"https://wandb.ai/dimweb/focus_persona_classification\" target=\"_blank\">Weights & Biases</a> (<a href=\"https://wandb.me/run\" target=\"_blank\">docs</a>)<br/>"
      ],
      "text/plain": [
       "<IPython.core.display.HTML object>"
      ]
     },
     "metadata": {},
     "output_type": "display_data"
    },
    {
     "name": "stderr",
     "output_type": "stream",
     "text": [
      "The following columns in the training set don't have a corresponding argument in `DebertaV2ForSequenceClassification.forward` and have been ignored: unique_id. If unique_id are not expected by `DebertaV2ForSequenceClassification.forward`,  you can safely ignore this message.\n"
     ]
    },
    {
     "data": {
      "text/html": [
       "\n",
       "    <div>\n",
       "      \n",
       "      <progress value='14330' max='14330' style='width:300px; height:20px; vertical-align: middle;'></progress>\n",
       "      [14330/14330 31:40, Epoch 2/2]\n",
       "    </div>\n",
       "    <table border=\"1\" class=\"dataframe\">\n",
       "  <thead>\n",
       " <tr style=\"text-align: left;\">\n",
       "      <th>Epoch</th>\n",
       "      <th>Training Loss</th>\n",
       "      <th>Validation Loss</th>\n",
       "      <th>Accuracy</th>\n",
       "    </tr>\n",
       "  </thead>\n",
       "  <tbody>\n",
       "    <tr>\n",
       "      <td>1</td>\n",
       "      <td>0.308800</td>\n",
       "      <td>0.340775</td>\n",
       "      <td>0.860046</td>\n",
       "    </tr>\n",
       "    <tr>\n",
       "      <td>2</td>\n",
       "      <td>0.326200</td>\n",
       "      <td>0.402499</td>\n",
       "      <td>0.859088</td>\n",
       "    </tr>\n",
       "  </tbody>\n",
       "</table><p>"
      ],
      "text/plain": [
       "<IPython.core.display.HTML object>"
      ]
     },
     "metadata": {},
     "output_type": "display_data"
    },
    {
     "name": "stderr",
     "output_type": "stream",
     "text": [
      "Saving model checkpoint to ./results/microsoft/deberta-v3-small/checkpoint-500\n",
      "Configuration saved in ./results/microsoft/deberta-v3-small/checkpoint-500/config.json\n",
      "Model weights saved in ./results/microsoft/deberta-v3-small/checkpoint-500/pytorch_model.bin\n",
      "tokenizer config file saved in ./results/microsoft/deberta-v3-small/checkpoint-500/tokenizer_config.json\n",
      "Special tokens file saved in ./results/microsoft/deberta-v3-small/checkpoint-500/special_tokens_map.json\n",
      "Saving model checkpoint to ./results/microsoft/deberta-v3-small/checkpoint-1000\n",
      "Configuration saved in ./results/microsoft/deberta-v3-small/checkpoint-1000/config.json\n",
      "Model weights saved in ./results/microsoft/deberta-v3-small/checkpoint-1000/pytorch_model.bin\n",
      "tokenizer config file saved in ./results/microsoft/deberta-v3-small/checkpoint-1000/tokenizer_config.json\n",
      "Special tokens file saved in ./results/microsoft/deberta-v3-small/checkpoint-1000/special_tokens_map.json\n",
      "Saving model checkpoint to ./results/microsoft/deberta-v3-small/checkpoint-1500\n",
      "Configuration saved in ./results/microsoft/deberta-v3-small/checkpoint-1500/config.json\n",
      "Model weights saved in ./results/microsoft/deberta-v3-small/checkpoint-1500/pytorch_model.bin\n",
      "tokenizer config file saved in ./results/microsoft/deberta-v3-small/checkpoint-1500/tokenizer_config.json\n",
      "Special tokens file saved in ./results/microsoft/deberta-v3-small/checkpoint-1500/special_tokens_map.json\n",
      "Saving model checkpoint to ./results/microsoft/deberta-v3-small/checkpoint-2000\n",
      "Configuration saved in ./results/microsoft/deberta-v3-small/checkpoint-2000/config.json\n",
      "Model weights saved in ./results/microsoft/deberta-v3-small/checkpoint-2000/pytorch_model.bin\n",
      "tokenizer config file saved in ./results/microsoft/deberta-v3-small/checkpoint-2000/tokenizer_config.json\n",
      "Special tokens file saved in ./results/microsoft/deberta-v3-small/checkpoint-2000/special_tokens_map.json\n",
      "Saving model checkpoint to ./results/microsoft/deberta-v3-small/checkpoint-2500\n",
      "Configuration saved in ./results/microsoft/deberta-v3-small/checkpoint-2500/config.json\n",
      "Model weights saved in ./results/microsoft/deberta-v3-small/checkpoint-2500/pytorch_model.bin\n",
      "tokenizer config file saved in ./results/microsoft/deberta-v3-small/checkpoint-2500/tokenizer_config.json\n",
      "Special tokens file saved in ./results/microsoft/deberta-v3-small/checkpoint-2500/special_tokens_map.json\n",
      "Saving model checkpoint to ./results/microsoft/deberta-v3-small/checkpoint-3000\n",
      "Configuration saved in ./results/microsoft/deberta-v3-small/checkpoint-3000/config.json\n",
      "Model weights saved in ./results/microsoft/deberta-v3-small/checkpoint-3000/pytorch_model.bin\n",
      "tokenizer config file saved in ./results/microsoft/deberta-v3-small/checkpoint-3000/tokenizer_config.json\n",
      "Special tokens file saved in ./results/microsoft/deberta-v3-small/checkpoint-3000/special_tokens_map.json\n",
      "Saving model checkpoint to ./results/microsoft/deberta-v3-small/checkpoint-3500\n",
      "Configuration saved in ./results/microsoft/deberta-v3-small/checkpoint-3500/config.json\n",
      "Model weights saved in ./results/microsoft/deberta-v3-small/checkpoint-3500/pytorch_model.bin\n",
      "tokenizer config file saved in ./results/microsoft/deberta-v3-small/checkpoint-3500/tokenizer_config.json\n",
      "Special tokens file saved in ./results/microsoft/deberta-v3-small/checkpoint-3500/special_tokens_map.json\n",
      "Saving model checkpoint to ./results/microsoft/deberta-v3-small/checkpoint-4000\n",
      "Configuration saved in ./results/microsoft/deberta-v3-small/checkpoint-4000/config.json\n",
      "Model weights saved in ./results/microsoft/deberta-v3-small/checkpoint-4000/pytorch_model.bin\n",
      "tokenizer config file saved in ./results/microsoft/deberta-v3-small/checkpoint-4000/tokenizer_config.json\n",
      "Special tokens file saved in ./results/microsoft/deberta-v3-small/checkpoint-4000/special_tokens_map.json\n",
      "Saving model checkpoint to ./results/microsoft/deberta-v3-small/checkpoint-4500\n",
      "Configuration saved in ./results/microsoft/deberta-v3-small/checkpoint-4500/config.json\n",
      "Model weights saved in ./results/microsoft/deberta-v3-small/checkpoint-4500/pytorch_model.bin\n",
      "tokenizer config file saved in ./results/microsoft/deberta-v3-small/checkpoint-4500/tokenizer_config.json\n",
      "Special tokens file saved in ./results/microsoft/deberta-v3-small/checkpoint-4500/special_tokens_map.json\n",
      "Saving model checkpoint to ./results/microsoft/deberta-v3-small/checkpoint-5000\n",
      "Configuration saved in ./results/microsoft/deberta-v3-small/checkpoint-5000/config.json\n",
      "Model weights saved in ./results/microsoft/deberta-v3-small/checkpoint-5000/pytorch_model.bin\n",
      "tokenizer config file saved in ./results/microsoft/deberta-v3-small/checkpoint-5000/tokenizer_config.json\n",
      "Special tokens file saved in ./results/microsoft/deberta-v3-small/checkpoint-5000/special_tokens_map.json\n",
      "Saving model checkpoint to ./results/microsoft/deberta-v3-small/checkpoint-5500\n",
      "Configuration saved in ./results/microsoft/deberta-v3-small/checkpoint-5500/config.json\n",
      "Model weights saved in ./results/microsoft/deberta-v3-small/checkpoint-5500/pytorch_model.bin\n",
      "tokenizer config file saved in ./results/microsoft/deberta-v3-small/checkpoint-5500/tokenizer_config.json\n",
      "Special tokens file saved in ./results/microsoft/deberta-v3-small/checkpoint-5500/special_tokens_map.json\n",
      "Saving model checkpoint to ./results/microsoft/deberta-v3-small/checkpoint-6000\n",
      "Configuration saved in ./results/microsoft/deberta-v3-small/checkpoint-6000/config.json\n",
      "Model weights saved in ./results/microsoft/deberta-v3-small/checkpoint-6000/pytorch_model.bin\n",
      "tokenizer config file saved in ./results/microsoft/deberta-v3-small/checkpoint-6000/tokenizer_config.json\n",
      "Special tokens file saved in ./results/microsoft/deberta-v3-small/checkpoint-6000/special_tokens_map.json\n",
      "Saving model checkpoint to ./results/microsoft/deberta-v3-small/checkpoint-6500\n",
      "Configuration saved in ./results/microsoft/deberta-v3-small/checkpoint-6500/config.json\n",
      "Model weights saved in ./results/microsoft/deberta-v3-small/checkpoint-6500/pytorch_model.bin\n",
      "tokenizer config file saved in ./results/microsoft/deberta-v3-small/checkpoint-6500/tokenizer_config.json\n",
      "Special tokens file saved in ./results/microsoft/deberta-v3-small/checkpoint-6500/special_tokens_map.json\n",
      "Saving model checkpoint to ./results/microsoft/deberta-v3-small/checkpoint-7000\n",
      "Configuration saved in ./results/microsoft/deberta-v3-small/checkpoint-7000/config.json\n",
      "Model weights saved in ./results/microsoft/deberta-v3-small/checkpoint-7000/pytorch_model.bin\n",
      "tokenizer config file saved in ./results/microsoft/deberta-v3-small/checkpoint-7000/tokenizer_config.json\n",
      "Special tokens file saved in ./results/microsoft/deberta-v3-small/checkpoint-7000/special_tokens_map.json\n",
      "***** Running Evaluation *****\n",
      "  Num examples = 28195\n",
      "  Batch size = 16\n",
      "The following columns in the evaluation set don't have a corresponding argument in `DebertaV2ForSequenceClassification.forward` and have been ignored: unique_id. If unique_id are not expected by `DebertaV2ForSequenceClassification.forward`,  you can safely ignore this message.\n",
      "Saving model checkpoint to ./results/microsoft/deberta-v3-small/checkpoint-7500\n",
      "Configuration saved in ./results/microsoft/deberta-v3-small/checkpoint-7500/config.json\n",
      "Model weights saved in ./results/microsoft/deberta-v3-small/checkpoint-7500/pytorch_model.bin\n",
      "tokenizer config file saved in ./results/microsoft/deberta-v3-small/checkpoint-7500/tokenizer_config.json\n",
      "Special tokens file saved in ./results/microsoft/deberta-v3-small/checkpoint-7500/special_tokens_map.json\n",
      "Saving model checkpoint to ./results/microsoft/deberta-v3-small/checkpoint-8000\n",
      "Configuration saved in ./results/microsoft/deberta-v3-small/checkpoint-8000/config.json\n",
      "Model weights saved in ./results/microsoft/deberta-v3-small/checkpoint-8000/pytorch_model.bin\n",
      "tokenizer config file saved in ./results/microsoft/deberta-v3-small/checkpoint-8000/tokenizer_config.json\n",
      "Special tokens file saved in ./results/microsoft/deberta-v3-small/checkpoint-8000/special_tokens_map.json\n",
      "Saving model checkpoint to ./results/microsoft/deberta-v3-small/checkpoint-8500\n",
      "Configuration saved in ./results/microsoft/deberta-v3-small/checkpoint-8500/config.json\n",
      "Model weights saved in ./results/microsoft/deberta-v3-small/checkpoint-8500/pytorch_model.bin\n",
      "tokenizer config file saved in ./results/microsoft/deberta-v3-small/checkpoint-8500/tokenizer_config.json\n",
      "Special tokens file saved in ./results/microsoft/deberta-v3-small/checkpoint-8500/special_tokens_map.json\n",
      "Saving model checkpoint to ./results/microsoft/deberta-v3-small/checkpoint-9000\n",
      "Configuration saved in ./results/microsoft/deberta-v3-small/checkpoint-9000/config.json\n",
      "Model weights saved in ./results/microsoft/deberta-v3-small/checkpoint-9000/pytorch_model.bin\n",
      "tokenizer config file saved in ./results/microsoft/deberta-v3-small/checkpoint-9000/tokenizer_config.json\n",
      "Special tokens file saved in ./results/microsoft/deberta-v3-small/checkpoint-9000/special_tokens_map.json\n",
      "Saving model checkpoint to ./results/microsoft/deberta-v3-small/checkpoint-9500\n",
      "Configuration saved in ./results/microsoft/deberta-v3-small/checkpoint-9500/config.json\n",
      "Model weights saved in ./results/microsoft/deberta-v3-small/checkpoint-9500/pytorch_model.bin\n",
      "tokenizer config file saved in ./results/microsoft/deberta-v3-small/checkpoint-9500/tokenizer_config.json\n",
      "Special tokens file saved in ./results/microsoft/deberta-v3-small/checkpoint-9500/special_tokens_map.json\n",
      "Saving model checkpoint to ./results/microsoft/deberta-v3-small/checkpoint-10000\n",
      "Configuration saved in ./results/microsoft/deberta-v3-small/checkpoint-10000/config.json\n",
      "Model weights saved in ./results/microsoft/deberta-v3-small/checkpoint-10000/pytorch_model.bin\n",
      "tokenizer config file saved in ./results/microsoft/deberta-v3-small/checkpoint-10000/tokenizer_config.json\n",
      "Special tokens file saved in ./results/microsoft/deberta-v3-small/checkpoint-10000/special_tokens_map.json\n",
      "Saving model checkpoint to ./results/microsoft/deberta-v3-small/checkpoint-10500\n",
      "Configuration saved in ./results/microsoft/deberta-v3-small/checkpoint-10500/config.json\n",
      "Model weights saved in ./results/microsoft/deberta-v3-small/checkpoint-10500/pytorch_model.bin\n",
      "tokenizer config file saved in ./results/microsoft/deberta-v3-small/checkpoint-10500/tokenizer_config.json\n",
      "Special tokens file saved in ./results/microsoft/deberta-v3-small/checkpoint-10500/special_tokens_map.json\n",
      "Saving model checkpoint to ./results/microsoft/deberta-v3-small/checkpoint-11000\n",
      "Configuration saved in ./results/microsoft/deberta-v3-small/checkpoint-11000/config.json\n",
      "Model weights saved in ./results/microsoft/deberta-v3-small/checkpoint-11000/pytorch_model.bin\n",
      "tokenizer config file saved in ./results/microsoft/deberta-v3-small/checkpoint-11000/tokenizer_config.json\n",
      "Special tokens file saved in ./results/microsoft/deberta-v3-small/checkpoint-11000/special_tokens_map.json\n",
      "Saving model checkpoint to ./results/microsoft/deberta-v3-small/checkpoint-11500\n",
      "Configuration saved in ./results/microsoft/deberta-v3-small/checkpoint-11500/config.json\n",
      "Model weights saved in ./results/microsoft/deberta-v3-small/checkpoint-11500/pytorch_model.bin\n",
      "tokenizer config file saved in ./results/microsoft/deberta-v3-small/checkpoint-11500/tokenizer_config.json\n",
      "Special tokens file saved in ./results/microsoft/deberta-v3-small/checkpoint-11500/special_tokens_map.json\n",
      "Saving model checkpoint to ./results/microsoft/deberta-v3-small/checkpoint-12000\n",
      "Configuration saved in ./results/microsoft/deberta-v3-small/checkpoint-12000/config.json\n",
      "Model weights saved in ./results/microsoft/deberta-v3-small/checkpoint-12000/pytorch_model.bin\n",
      "tokenizer config file saved in ./results/microsoft/deberta-v3-small/checkpoint-12000/tokenizer_config.json\n",
      "Special tokens file saved in ./results/microsoft/deberta-v3-small/checkpoint-12000/special_tokens_map.json\n",
      "Saving model checkpoint to ./results/microsoft/deberta-v3-small/checkpoint-12500\n",
      "Configuration saved in ./results/microsoft/deberta-v3-small/checkpoint-12500/config.json\n",
      "Model weights saved in ./results/microsoft/deberta-v3-small/checkpoint-12500/pytorch_model.bin\n",
      "tokenizer config file saved in ./results/microsoft/deberta-v3-small/checkpoint-12500/tokenizer_config.json\n",
      "Special tokens file saved in ./results/microsoft/deberta-v3-small/checkpoint-12500/special_tokens_map.json\n",
      "Saving model checkpoint to ./results/microsoft/deberta-v3-small/checkpoint-13000\n",
      "Configuration saved in ./results/microsoft/deberta-v3-small/checkpoint-13000/config.json\n",
      "Model weights saved in ./results/microsoft/deberta-v3-small/checkpoint-13000/pytorch_model.bin\n",
      "tokenizer config file saved in ./results/microsoft/deberta-v3-small/checkpoint-13000/tokenizer_config.json\n",
      "Special tokens file saved in ./results/microsoft/deberta-v3-small/checkpoint-13000/special_tokens_map.json\n",
      "Saving model checkpoint to ./results/microsoft/deberta-v3-small/checkpoint-13500\n",
      "Configuration saved in ./results/microsoft/deberta-v3-small/checkpoint-13500/config.json\n",
      "Model weights saved in ./results/microsoft/deberta-v3-small/checkpoint-13500/pytorch_model.bin\n",
      "tokenizer config file saved in ./results/microsoft/deberta-v3-small/checkpoint-13500/tokenizer_config.json\n",
      "Special tokens file saved in ./results/microsoft/deberta-v3-small/checkpoint-13500/special_tokens_map.json\n",
      "Saving model checkpoint to ./results/microsoft/deberta-v3-small/checkpoint-14000\n",
      "Configuration saved in ./results/microsoft/deberta-v3-small/checkpoint-14000/config.json\n",
      "Model weights saved in ./results/microsoft/deberta-v3-small/checkpoint-14000/pytorch_model.bin\n",
      "tokenizer config file saved in ./results/microsoft/deberta-v3-small/checkpoint-14000/tokenizer_config.json\n",
      "Special tokens file saved in ./results/microsoft/deberta-v3-small/checkpoint-14000/special_tokens_map.json\n",
      "***** Running Evaluation *****\n",
      "  Num examples = 28195\n",
      "  Batch size = 16\n",
      "The following columns in the evaluation set don't have a corresponding argument in `DebertaV2ForSequenceClassification.forward` and have been ignored: unique_id. If unique_id are not expected by `DebertaV2ForSequenceClassification.forward`,  you can safely ignore this message.\n",
      "\n",
      "\n",
      "Training completed. Do not forget to share your model on huggingface.co/models =)\n",
      "\n",
      "\n"
     ]
    },
    {
     "data": {
      "text/plain": [
       "TrainOutput(global_step=14330, training_loss=0.31399058339817076, metrics={'train_runtime': 1903.375, 'train_samples_per_second': 120.449, 'train_steps_per_second': 7.529, 'total_flos': 7440217809914304.0, 'train_loss': 0.31399058339817076, 'epoch': 2.0})"
      ]
     },
     "execution_count": 3,
     "metadata": {},
     "output_type": "execute_result"
    }
   ],
   "source": [
    "%env WANDB_PROJECT=focus_persona_classification\n",
    "\n",
    "training_args = TrainingArguments(\n",
    "    output_dir=f\"./results/{model_name}\",\n",
    "    learning_rate=2e-5,\n",
    "    per_device_train_batch_size=16,\n",
    "    per_device_eval_batch_size=16,\n",
    "    num_train_epochs=2,\n",
    "    weight_decay=0.01,\n",
    "    logging_steps=10,\n",
    "    overwrite_output_dir=True,\n",
    "    run_name=f\"huggingface_{model_name}\",\n",
    "    fp16=True,\n",
    "    evaluation_strategy=\"epoch\",\n",
    ")\n",
    "\n",
    "trainer = Trainer(\n",
    "    model=model,\n",
    "    args=training_args,\n",
    "    train_dataset=train_dataset,\n",
    "    eval_dataset=valid_dataset,\n",
    "    tokenizer=tokenizer,\n",
    "    data_collator=data_collator,\n",
    "    compute_metrics=compute_metrics\n",
    ")\n",
    "\n",
    "trainer.train()"
   ]
  }
 ],
 "metadata": {
  "kernelspec": {
   "display_name": "Python 3.10.4 ('d_env')",
   "language": "python",
   "name": "python3"
  },
  "language_info": {
   "codemirror_mode": {
    "name": "ipython",
    "version": 3
   },
   "file_extension": ".py",
   "mimetype": "text/x-python",
   "name": "python",
   "nbconvert_exporter": "python",
   "pygments_lexer": "ipython3",
   "version": "3.10.4"
  },
  "orig_nbformat": 4,
  "vscode": {
   "interpreter": {
    "hash": "c47eeeae5f0593d6ff7164e36f6d45daaa118b41372aa3e9757d1f066e1c76d7"
   }
  }
 },
 "nbformat": 4,
 "nbformat_minor": 2
}
