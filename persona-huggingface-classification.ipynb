{
 "cells": [
  {
   "cell_type": "code",
   "execution_count": 1,
   "metadata": {},
   "outputs": [
    {
     "name": "stderr",
     "output_type": "stream",
     "text": [
      "/home/dimweb/Desktop/deeppavlov/d_env/lib/python3.10/site-packages/tqdm/auto.py:22: TqdmWarning: IProgress not found. Please update jupyter and ipywidgets. See https://ipywidgets.readthedocs.io/en/stable/user_install.html\n",
      "  from .autonotebook import tqdm as notebook_tqdm\n",
      "Special tokens have been added in the vocabulary, make sure the associated word embeddings are fine-tuned or trained.\n",
      "/home/dimweb/Desktop/deeppavlov/d_env/lib/python3.10/site-packages/transformers/convert_slow_tokenizer.py:434: UserWarning: The sentencepiece tokenizer that you are converting to a fast tokenizer uses the byte fallback option which is not implemented in the fast tokenizers. In practice this means that the fast version of the tokenizer can produce unknown tokens whereas the sentencepiece version would have converted these unknown tokens into a sequence of byte tokens matching the original piece of text.\n",
      "  warnings.warn(\n",
      "Special tokens have been added in the vocabulary, make sure the associated word embeddings are fine-tuned or trained.\n",
      "Some weights of the model checkpoint at microsoft/deberta-v3-small were not used when initializing DebertaV3PersonaClassificationV3: ['lm_predictions.lm_head.LayerNorm.bias', 'mask_predictions.dense.weight', 'lm_predictions.lm_head.dense.weight', 'lm_predictions.lm_head.LayerNorm.weight', 'mask_predictions.dense.bias', 'mask_predictions.LayerNorm.weight', 'lm_predictions.lm_head.bias', 'mask_predictions.LayerNorm.bias', 'mask_predictions.classifier.weight', 'lm_predictions.lm_head.dense.bias', 'mask_predictions.classifier.bias']\n",
      "- This IS expected if you are initializing DebertaV3PersonaClassificationV3 from the checkpoint of a model trained on another task or with another architecture (e.g. initializing a BertForSequenceClassification model from a BertForPreTraining model).\n",
      "- This IS NOT expected if you are initializing DebertaV3PersonaClassificationV3 from the checkpoint of a model that you expect to be exactly identical (initializing a BertForSequenceClassification model from a BertForSequenceClassification model).\n",
      "Some weights of DebertaV3PersonaClassificationV3 were not initialized from the model checkpoint at microsoft/deberta-v3-small and are newly initialized: ['pooler.dense.bias', 'classifier.weight', 'pooler.dense.weight', 'classifier.bias']\n",
      "You should probably TRAIN this model on a down-stream task to be able to use it for predictions and inference.\n"
     ]
    },
    {
     "data": {
      "text/plain": [
       "tensor([0.3865, 0.6135])"
      ]
     },
     "execution_count": 1,
     "metadata": {},
     "output_type": "execute_result"
    }
   ],
   "source": [
    "from core.dataloaders.focus.focus_dataloader import FoCusDatasetPersonaV2\n",
    "from core.utils import PytorchDatasetFactory\n",
    "from core.dataloaders.focus.models.debertav3_dataloaders import DebertaV3FoCusPersonaDatasetSampleV2\n",
    "from core.hyperparameters.debertav3_hyperparameters import DebertaV3HyperparametersV1\n",
    "\n",
    "from transformers import AutoTokenizer\n",
    "from datasets import load_dataset\n",
    "from transformers import DataCollatorWithPadding\n",
    "from transformers import AutoModelForSequenceClassification, TrainingArguments, Trainer\n",
    "\n",
    "import torch\n",
    "\n",
    "\n",
    "# model_name = \"microsoft/deberta-v3-base\"\n",
    "model_name = \"microsoft/deberta-v3-small\"\n",
    "\n",
    "tokenizer = AutoTokenizer.from_pretrained(model_name)\n",
    "\n",
    "data_collator = DataCollatorWithPadding(tokenizer=tokenizer)\n",
    "\n",
    "hyperparameters = DebertaV3HyperparametersV1(\n",
    "    train_batch_size=16,\n",
    "    valid_batch_size=16,\n",
    "    max_dialog_history_tokens=70,\n",
    "    max_knowledge_candidates_tokens=220,\n",
    "    max_persona_tokens=20,\n",
    "    model_name=model_name,\n",
    "    project_name=\"focus_persona_classification\",\n",
    ")\n",
    "\n",
    "train_dataset = FoCusDatasetPersonaV2(\n",
    "    input_dataset_path=\"./datasets/FoCus/train_focus.json\",\n",
    "    is_train=True,\n",
    ")\n",
    "\n",
    "\n",
    "valid_dataset = FoCusDatasetPersonaV2(\n",
    "    input_dataset_path=\"./datasets/FoCus/valid_focus.json\",\n",
    "    is_train=False,\n",
    ")\n",
    "\n",
    "train_dataset = PytorchDatasetFactory(\n",
    "    dataset=train_dataset,\n",
    "    tokenizer=tokenizer,\n",
    "    hyperparameters=hyperparameters,\n",
    "    dataset_sample_class=DebertaV3FoCusPersonaDatasetSampleV2,\n",
    ")\n",
    "\n",
    "valid_dataset = PytorchDatasetFactory(\n",
    "    dataset=valid_dataset,\n",
    "    tokenizer=tokenizer,\n",
    "    hyperparameters=hyperparameters,\n",
    "    dataset_sample_class=DebertaV3FoCusPersonaDatasetSampleV2,\n",
    ")\n",
    "\n",
    "from datasets import load_metric\n",
    "import numpy as np\n",
    "\n",
    "accuracy_metric = load_metric(\"accuracy\")\n",
    "\n",
    "def compute_metrics(eval_pred):\n",
    "    predictions, labels = eval_pred\n",
    "    predictions = np.argmax(predictions, axis=-1)\n",
    "    return accuracy_metric.compute(predictions=predictions, references=labels)\n",
    "\n",
    "# train_positive = 0\n",
    "# train_negative = 0\n",
    "# for sample in train_dataset:\n",
    "#     if sample[\"labels\"] == 1:\n",
    "#         train_positive += 1\n",
    "#     else:\n",
    "#         train_negative += 1\n",
    "\n",
    "# print(\"Train positive: \", train_positive)\n",
    "# print(\"Train negative: \", train_negative)\n",
    "# print(\"Train ratio: \", train_positive / (train_positive + train_negative))\n",
    "\n",
    "\n",
    "# positive_ratio = train_positive / (train_positive + train_negative)\n",
    "# class_weights = [positive_ratio, 1 - positive_ratio]\n",
    "\n",
    "class_weights = torch.tensor([0.38646951059931955, 0.6135304894006804])\n",
    "\n",
    "from core.base_models.debertav3_models import DebertaV3PersonaClassificationV3\n",
    "from transformers import DebertaV2Config \n",
    "# model = AutoModelForSequenceClassification.from_pretrained(model_name, num_labels=2)\n",
    "\n",
    "model = DebertaV3PersonaClassificationV3.from_pretrained(\n",
    "    hyperparameters.model_name,\n",
    "    config=DebertaV2Config.from_pretrained(\n",
    "        hyperparameters.model_name,\n",
    "    ),\n",
    "    class_weights=class_weights,\n",
    ")\n",
    "\n",
    "model.class_weights"
   ]
  },
  {
   "cell_type": "code",
   "execution_count": null,
   "metadata": {},
   "outputs": [],
   "source": [
    "%env WANDB_PROJECT=focus_persona_classification\n",
    "\n",
    "training_args = TrainingArguments(\n",
    "    output_dir=f\"./results/{model_name}\",\n",
    "    learning_rate=2e-5,\n",
    "    per_device_train_batch_size=hyperparameters.train_batch_size,\n",
    "    per_device_eval_batch_size=hyperparameters.valid_batch_size,\n",
    "    num_train_epochs=4,\n",
    "    weight_decay=0.02,\n",
    "    logging_steps=10,\n",
    "    overwrite_output_dir=True,\n",
    "    run_name=f\"huggingface_{model_name}\",\n",
    "    fp16=True,\n",
    "    evaluation_strategy=\"steps\",\n",
    "    eval_steps=1000,\n",
    "    do_train=True,\n",
    ")\n",
    "\n",
    "trainer = Trainer(\n",
    "    model=model,\n",
    "    args=training_args,\n",
    "    train_dataset=train_dataset,\n",
    "    eval_dataset=valid_dataset,\n",
    "    tokenizer=tokenizer,\n",
    "    data_collator=data_collator,\n",
    "    compute_metrics=compute_metrics\n",
    ")\n",
    "\n",
    "trainer.train()\n",
    "# trainer.evaluate()"
   ]
  },
  {
   "cell_type": "markdown",
   "metadata": {},
   "source": [
    "### evaluate best persona model"
   ]
  },
  {
   "cell_type": "code",
   "execution_count": 5,
   "metadata": {},
   "outputs": [
    {
     "data": {
      "text/plain": [
       "tensor([0.1000, 0.9000])"
      ]
     },
     "execution_count": 5,
     "metadata": {},
     "output_type": "execute_result"
    }
   ],
   "source": [
    "from core.dataloaders.focus.focus_dataloader import FoCusDatasetPersonaV2\n",
    "from core.utils import PytorchDatasetFactory\n",
    "from core.dataloaders.focus.models.debertav3_dataloaders import DebertaV3FoCusPersonaDatasetSampleV2\n",
    "from core.hyperparameters.debertav3_hyperparameters import DebertaV3HyperparametersV1\n",
    "\n",
    "from transformers import AutoTokenizer\n",
    "from datasets import load_dataset\n",
    "from transformers import DataCollatorWithPadding\n",
    "from transformers import AutoModelForSequenceClassification, TrainingArguments, Trainer\n",
    "\n",
    "import torch\n",
    "from torch.utils.data import DataLoader\n",
    "\n",
    "\n",
    "# model_name = \"microsoft/deberta-v3-base\"\n",
    "# model_name = \"microsoft/deberta-v3-small\"\n",
    "model_name = \"./results/microsoft/deberta-v3-small/checkpoint-87000/\"\n",
    "\n",
    "tokenizer = AutoTokenizer.from_pretrained(model_name)\n",
    "\n",
    "data_collator = DataCollatorWithPadding(tokenizer=tokenizer)\n",
    "\n",
    "hyperparameters = DebertaV3HyperparametersV1(\n",
    "    train_batch_size=16,\n",
    "    valid_batch_size=16,\n",
    "    max_dialog_history_tokens=70,\n",
    "    max_knowledge_candidates_tokens=220,\n",
    "    max_persona_tokens=20,\n",
    "    model_name=model_name,\n",
    "    project_name=\"focus_persona_classification\",\n",
    ")\n",
    "\n",
    "train_dataset = FoCusDatasetPersonaV2(\n",
    "    input_dataset_path=\"./datasets/FoCus/train_focus.json\",\n",
    "    is_train=True,\n",
    ")\n",
    "\n",
    "\n",
    "valid_dataset = FoCusDatasetPersonaV2(\n",
    "    input_dataset_path=\"./datasets/FoCus/valid_focus.json\",\n",
    "    is_train=False,\n",
    ")\n",
    "\n",
    "train_dataset = PytorchDatasetFactory(\n",
    "    dataset=train_dataset,\n",
    "    tokenizer=tokenizer,\n",
    "    hyperparameters=hyperparameters,\n",
    "    dataset_sample_class=DebertaV3FoCusPersonaDatasetSampleV2,\n",
    ")\n",
    "\n",
    "valid_dataset = PytorchDatasetFactory(\n",
    "    dataset=valid_dataset,\n",
    "    tokenizer=tokenizer,\n",
    "    hyperparameters=hyperparameters,\n",
    "    dataset_sample_class=DebertaV3FoCusPersonaDatasetSampleV2,\n",
    ")\n",
    "\n",
    "from datasets import load_metric\n",
    "import numpy as np\n",
    "\n",
    "accuracy_metric = load_metric(\"accuracy\")\n",
    "\n",
    "def compute_metrics(eval_pred):\n",
    "    predictions, labels = eval_pred\n",
    "    predictions = np.argmax(predictions, axis=-1)\n",
    "    return accuracy_metric.compute(predictions=predictions, references=labels)\n",
    "\n",
    "class_weights = torch.tensor([0.1, 0.9])\n",
    "\n",
    "from core.base_models.debertav3_models import DebertaV3PersonaClassificationV3\n",
    "from transformers import DebertaV2Config \n",
    "# model = AutoModelForSequenceClassification.from_pretrained(model_name, num_labels=2)\n",
    "\n",
    "model = DebertaV3PersonaClassificationV3.from_pretrained(\n",
    "    hyperparameters.model_name,\n",
    "    config=DebertaV2Config.from_pretrained(\n",
    "        hyperparameters.model_name,\n",
    "    ),\n",
    "    class_weights=class_weights,\n",
    ")\n",
    "\n",
    "model.class_weights"
   ]
  },
  {
   "cell_type": "code",
   "execution_count": 9,
   "metadata": {},
   "outputs": [],
   "source": [
    "from core.dataloaders.focus.lighting.debertav3_lighting_dataloaders import DebertaV3FoCusPersonaLightningDataModuleV2 \n",
    "dataset = DebertaV3FoCusPersonaLightningDataModuleV2(\n",
    "    train_path_dataset=\"./datasets/FoCus/train_focus.json\",\n",
    "    valid_path_dataset=\"./datasets/FoCus/valid_focus.json\",\n",
    "    hyperparameters=hyperparameters,\n",
    "    tokenizer=tokenizer,  # type: ignore\n",
    "    debug_status=0,\n",
    ")\n",
    "dataset.setup()"
   ]
  },
  {
   "cell_type": "code",
   "execution_count": 11,
   "metadata": {},
   "outputs": [
    {
     "name": "stdout",
     "output_type": "stream",
     "text": [
      "env: TOKENIZERS_PARALLELISM=true\n"
     ]
    }
   ],
   "source": [
    "%env TOKENIZERS_PARALLELISM=true"
   ]
  },
  {
   "cell_type": "code",
   "execution_count": 23,
   "metadata": {},
   "outputs": [],
   "source": [
    "model = model.cuda()\n",
    "model.eval()\n",
    "None"
   ]
  },
  {
   "cell_type": "code",
   "execution_count": 24,
   "metadata": {},
   "outputs": [
    {
     "name": "stdout",
     "output_type": "stream",
     "text": [
      "Accuracy:  0.9329495231449174\n"
     ]
    }
   ],
   "source": [
    "total_accuracy = 0\n",
    "\n",
    "for train_sample in dataset.train_dataloader():\n",
    "    train_sample.pop(\"unique_ids\", None)\n",
    "    for key in train_sample.keys():\n",
    "        train_sample[key] = train_sample[key].cuda()\n",
    "\n",
    "    output = model(**train_sample)\n",
    "    labels = train_sample[\"labels\"]\n",
    "    logits = output.logits\n",
    "    predicts = torch.argmax(logits, dim=-1)\n",
    "    # print(\"Labels: \", labels)\n",
    "    # print(\"Logits: \", predicts)\n",
    "    accuracy = (predicts == labels).int().sum().item() / len(labels)\n",
    "    total_accuracy += accuracy\n",
    "    # break\n",
    "\n",
    "print(\"Accuracy: \", total_accuracy / len(dataset.train_dataloader()))"
   ]
  },
  {
   "cell_type": "code",
   "execution_count": 26,
   "metadata": {},
   "outputs": [
    {
     "name": "stdout",
     "output_type": "stream",
     "text": [
      "Accuracy:  0.9173993193420307\n"
     ]
    }
   ],
   "source": [
    "total_accuracy = 0\n",
    "\n",
    "for train_sample in dataset.val_dataloader():\n",
    "    train_sample.pop(\"unique_ids\", None)\n",
    "    for key in train_sample.keys():\n",
    "        train_sample[key] = train_sample[key].cuda()\n",
    "\n",
    "    output = model(**train_sample)\n",
    "    labels = train_sample[\"labels\"]\n",
    "    logits = output.logits\n",
    "    predicts = torch.argmax(logits, dim=-1)\n",
    "    # print(\"Labels: \", labels)\n",
    "    # print(\"Logits: \", predicts)\n",
    "    accuracy = (predicts == labels).int().sum().item() / len(labels)\n",
    "    total_accuracy += accuracy\n",
    "    # break\n",
    "\n",
    "print(\"Accuracy: \", total_accuracy / len(dataset.val_dataloader()))"
   ]
  }
 ],
 "metadata": {
  "kernelspec": {
   "display_name": "Python 3.10.4 ('d_env')",
   "language": "python",
   "name": "python3"
  },
  "language_info": {
   "codemirror_mode": {
    "name": "ipython",
    "version": 3
   },
   "file_extension": ".py",
   "mimetype": "text/x-python",
   "name": "python",
   "nbconvert_exporter": "python",
   "pygments_lexer": "ipython3",
   "version": "3.10.4"
  },
  "orig_nbformat": 4,
  "vscode": {
   "interpreter": {
    "hash": "c47eeeae5f0593d6ff7164e36f6d45daaa118b41372aa3e9757d1f066e1c76d7"
   }
  }
 },
 "nbformat": 4,
 "nbformat_minor": 2
}
