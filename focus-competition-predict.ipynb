{
 "cells": [
  {
   "cell_type": "code",
   "execution_count": 1,
   "metadata": {},
   "outputs": [
    {
     "name": "stderr",
     "output_type": "stream",
     "text": [
      "/home/dimweb/Desktop/deeppavlov/d_env/lib/python3.10/site-packages/tqdm/auto.py:22: TqdmWarning: IProgress not found. Please update jupyter and ipywidgets. See https://ipywidgets.readthedocs.io/en/stable/user_install.html\n",
      "  from .autonotebook import tqdm as notebook_tqdm\n"
     ]
    }
   ],
   "source": []
  },
  {
   "cell_type": "code",
   "execution_count": null,
   "metadata": {},
   "outputs": [],
   "source": [
    "from core.dataloaders.focus.focus_dataloader import FoCusTestDatasetV1\n",
    "from core.inference.inference_scripts import (\n",
    "    FocusPersonaExtractorV1,\n",
    "    FocusKnowledgeKandidateExtractorV1,\n",
    "    ResponseGeneratorV1,\n",
    "    BartFocusTestDatasetV1,\n",
    ")\n",
    "\n",
    "test_dataset = FoCusTestDatasetV1(\n",
    "    input_dataset_path=\"./datasets/FoCus/test_focus_public.json\",\n",
    ")\n",
    "\n",
    "persona_model_name = \"./results/microsoft/deberta-v3-small/checkpoint-87000/\"\n",
    "persona_extractor = FocusPersonaExtractorV1(\n",
    "    model_name=persona_model_name,\n",
    ")\n",
    "\n",
    "knowledge_extractor = FocusKnowledgeKandidateExtractorV1()\n",
    "response_extractor = ResponseGeneratorV1(\n",
    "    model_name=\"./bart_base_2cx77pua\",\n",
    ")\n",
    "\n",
    "bart_focus_test_dataset = BartFocusTestDatasetV1(\n",
    "    initial_dataset=test_dataset,\n",
    "    knowledge_kandidate_extractor=knowledge_extractor,\n",
    "    focus_persona_extractor=persona_extractor,\n",
    "    response_generator=response_extractor,\n",
    ")"
   ]
  },
  {
   "cell_type": "markdown",
   "metadata": {},
   "source": [
    "## create persona and knowledge prediction dataset"
   ]
  },
  {
   "cell_type": "code",
   "execution_count": 3,
   "metadata": {},
   "outputs": [],
   "source": [
    "import json\n",
    "\n",
    "with open(\"./predicts/bart_predict_full_dataset.json\", \"r\") as f:\n",
    "    predicts = json.load(f)"
   ]
  },
  {
   "cell_type": "code",
   "execution_count": 6,
   "metadata": {},
   "outputs": [],
   "source": [
    "from core.inference.inference_scripts import make_submission \n",
    "\n",
    "# make_submission(\n",
    "#     knowledge_persona_save_path=\n",
    "#     predicts=\n",
    "#     response_save_path=\n",
    "# )"
   ]
  },
  {
   "cell_type": "code",
   "execution_count": 5,
   "metadata": {},
   "outputs": [],
   "source": []
  },
  {
   "cell_type": "code",
   "execution_count": 45,
   "metadata": {},
   "outputs": [],
   "source": []
  }
 ],
 "metadata": {
  "kernelspec": {
   "display_name": "Python 3.10.4 ('d_env')",
   "language": "python",
   "name": "python3"
  },
  "language_info": {
   "codemirror_mode": {
    "name": "ipython",
    "version": 3
   },
   "file_extension": ".py",
   "mimetype": "text/x-python",
   "name": "python",
   "nbconvert_exporter": "python",
   "pygments_lexer": "ipython3",
   "version": "3.10.4"
  },
  "orig_nbformat": 4,
  "vscode": {
   "interpreter": {
    "hash": "c47eeeae5f0593d6ff7164e36f6d45daaa118b41372aa3e9757d1f066e1c76d7"
   }
  }
 },
 "nbformat": 4,
 "nbformat_minor": 2
}
