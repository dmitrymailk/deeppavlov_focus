{
 "cells": [
  {
   "cell_type": "code",
   "execution_count": 20,
   "metadata": {},
   "outputs": [],
   "source": [
    "%load_ext autoreload\n",
    "%autoreload 2"
   ]
  },
  {
   "cell_type": "code",
   "execution_count": 1,
   "metadata": {},
   "outputs": [
    {
     "name": "stderr",
     "output_type": "stream",
     "text": [
      "/home/dimweb/Desktop/deeppavlov/d_env/lib/python3.10/site-packages/tqdm/auto.py:22: TqdmWarning: IProgress not found. Please update jupyter and ipywidgets. See https://ipywidgets.readthedocs.io/en/stable/user_install.html\n",
      "  from .autonotebook import tqdm as notebook_tqdm\n"
     ]
    },
    {
     "name": "stdout",
     "output_type": "stream",
     "text": [
      "147\n",
      "163\n"
     ]
    },
    {
     "ename": "AssertionError",
     "evalue": "163 164",
     "output_type": "error",
     "traceback": [
      "\u001b[0;31m---------------------------------------------------------------------------\u001b[0m",
      "\u001b[0;31mAssertionError\u001b[0m                            Traceback (most recent call last)",
      "Cell \u001b[0;32mIn [1], line 31\u001b[0m\n\u001b[1;32m     29\u001b[0m dialog_eos \u001b[38;5;241m=\u001b[39m tokenizer\u001b[38;5;241m.\u001b[39mget_vocab()\u001b[38;5;241m.\u001b[39mget(hyper\u001b[38;5;241m.\u001b[39mdialog_eos_token)\n\u001b[1;32m     30\u001b[0m input_ids\u001b[38;5;241m.\u001b[39mindex(dialog_eos)\n\u001b[0;32m---> 31\u001b[0m \u001b[38;5;28;01massert\u001b[39;00m sample[\u001b[38;5;124m\"\u001b[39m\u001b[38;5;124mdialog_eos_index\u001b[39m\u001b[38;5;124m\"\u001b[39m] \u001b[38;5;241m==\u001b[39m input_ids\u001b[38;5;241m.\u001b[39mindex(dialog_eos), \u001b[38;5;124mf\u001b[39m\u001b[38;5;124m\"\u001b[39m\u001b[38;5;132;01m{\u001b[39;00msample[\u001b[38;5;124m'\u001b[39m\u001b[38;5;124mdialog_eos_index\u001b[39m\u001b[38;5;124m'\u001b[39m]\u001b[38;5;132;01m}\u001b[39;00m\u001b[38;5;124m \u001b[39m\u001b[38;5;132;01m{\u001b[39;00minput_ids\u001b[38;5;241m.\u001b[39mindex(dialog_eos)\u001b[38;5;132;01m}\u001b[39;00m\u001b[38;5;124m\"\u001b[39m\n",
      "\u001b[0;31mAssertionError\u001b[0m: 163 164"
     ]
    }
   ],
   "source": [
    "from core.dataloaders.focus_dataloader import PytorchFoCusDatasetV2, FoCusDatasetV1\n",
    "from core.tokenizers.bart_tokenizers import BartFoCusTokenizerV1\n",
    "from core.hyperparameters.bart_hyperparameters import BartHyperparametersV1\n",
    "\n",
    "hyper = BartHyperparametersV1()\n",
    "focus_dataset = FoCusDatasetV1(\n",
    "    input_dataset_path=\"./datasets/FoCus/valid_focus.json\"\n",
    ")\n",
    "\n",
    "tokenizer = BartFoCusTokenizerV1.from_pretrained(\n",
    "    \"facebook/bart-base\",\n",
    "    hyperparameters=hyper,\n",
    ")\n",
    "\n",
    "pytorch_foc = PytorchFoCusDatasetV2(\n",
    "    dataset=focus_dataset,\n",
    "    tokenizer=tokenizer,\n",
    "    hyperparameters=hyper,\n",
    ")\n",
    "\n",
    "sample = pytorch_foc[0]\n",
    "input_ids = sample[\"input_ids\"]\n",
    "print(sample[\"dialog_bos_index\"])\n",
    "dialog_bos = tokenizer.get_vocab().get(hyper.dialog_bos_token)\n",
    "\n",
    "assert sample[\"dialog_bos_index\"] == input_ids.index(dialog_bos), f\"dialog_bos_index {sample['dialog_bos_index']} {input_ids.index(dialog_bos)}\" \n",
    "\n",
    "print(sample[\"dialog_eos_index\"])\n",
    "dialog_eos = tokenizer.get_vocab().get(hyper.dialog_eos_token)\n",
    "input_ids.index(dialog_eos)\n",
    "assert sample[\"dialog_eos_index\"] == input_ids.index(dialog_eos), f\"dialog_eos_index {sample['dialog_eos_index']} {input_ids.index(dialog_eos)}\""
   ]
  },
  {
   "cell_type": "code",
   "execution_count": 8,
   "metadata": {},
   "outputs": [
    {
     "data": {
      "text/plain": [
       "50265"
      ]
     },
     "execution_count": 8,
     "metadata": {},
     "output_type": "execute_result"
    }
   ],
   "source": []
  }
 ],
 "metadata": {
  "kernelspec": {
   "display_name": "Python 3.10.4 ('d_env')",
   "language": "python",
   "name": "python3"
  },
  "language_info": {
   "codemirror_mode": {
    "name": "ipython",
    "version": 3
   },
   "file_extension": ".py",
   "mimetype": "text/x-python",
   "name": "python",
   "nbconvert_exporter": "python",
   "pygments_lexer": "ipython3",
   "version": "3.10.4"
  },
  "orig_nbformat": 4,
  "vscode": {
   "interpreter": {
    "hash": "c47eeeae5f0593d6ff7164e36f6d45daaa118b41372aa3e9757d1f066e1c76d7"
   }
  }
 },
 "nbformat": 4,
 "nbformat_minor": 2
}
